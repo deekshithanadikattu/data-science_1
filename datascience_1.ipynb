{
 "cells": [
  {
   "cell_type": "markdown",
   "id": "62f4c619-9db5-481c-ab63-3b5fc0d6d6a5",
   "metadata": {},
   "source": [
    "# Data Science Tools and Ecosystem"
   ]
  },
  {
   "cell_type": "markdown",
   "id": "acec859c-3f3e-4ed5-ac29-bec356a57895",
   "metadata": {},
   "source": [
    "## Introduction\n",
    "This notebook provides an overview of some key components of the data science ecosystem, including programming languages, libraries, and tools commonly used in the field.\n"
   ]
  },
  {
   "cell_type": "markdown",
   "id": "273e66e5-f844-422f-ac39-0b36f2507b52",
   "metadata": {},
   "source": [
    "## Data Science Languages\n",
    "Some popular languages used in data science include:\n",
    "- Python\n",
    "- R\n",
    "- SQL\n",
    "- Julia\n",
    "- Scala\n"
   ]
  },
  {
   "cell_type": "markdown",
   "id": "c527b943-219a-4012-aff0-1567f0e71797",
   "metadata": {},
   "source": [
    "## Data Science Libraries\n",
    "Some commonly used libraries in data science are:\n",
    "- Pandas\n",
    "- NumPy\n",
    "- Matplotlib\n",
    "- Scikit-learn\n",
    "- TensorFlow\n",
    "- Keras\n"
   ]
  },
  {
   "cell_type": "markdown",
   "id": "114db482-5093-4346-808d-5cdbaaae0af2",
   "metadata": {},
   "source": [
    "## Data Science Tools\n",
    "| Tool              | Description                             |\n",
    "|-------------------|-----------------------------------------|\n",
    "| Jupyter Notebook  | Interactive environment for coding and documenting |\n",
    "| RStudio           | IDE for R programming                    |\n",
    "| Apache Spark      | Distributed data processing framework    |\n",
    "| Tableau           | Data visualization software              |\n"
   ]
  },
  {
   "cell_type": "markdown",
   "id": "5c057864-e34a-42ba-bd0c-f4a44bc58e8a",
   "metadata": {},
   "source": [
    "## Arithmetic Expression Examples\n",
    "Below are some examples of basic arithmetic operations like addition and multiplication.\n"
   ]
  },
  {
   "cell_type": "code",
   "execution_count": 1,
   "id": "84aba9d1-e832-4875-8dc7-1ece1fa41f47",
   "metadata": {},
   "outputs": [
    {
     "data": {
      "text/plain": [
       "17"
      ]
     },
     "execution_count": 1,
     "metadata": {},
     "output_type": "execute_result"
    }
   ],
   "source": [
    "# Multiplying and adding numbers\n",
    "(3 * 4) + 5\n"
   ]
  },
  {
   "cell_type": "code",
   "execution_count": 2,
   "id": "97958f67-2ffe-431d-a93f-61ab7495aa95",
   "metadata": {},
   "outputs": [
    {
     "data": {
      "text/plain": [
       "2.5"
      ]
     },
     "execution_count": 2,
     "metadata": {},
     "output_type": "execute_result"
    }
   ],
   "source": [
    "# Converting minutes to hours\n",
    "minutes = 150\n",
    "hours = minutes / 60\n",
    "hours\n"
   ]
  },
  {
   "cell_type": "markdown",
   "id": "9987d056-952b-4031-aaa8-41e91dc4dc02",
   "metadata": {},
   "source": [
    "## Objectives\n",
    "In this notebook, you will learn:\n",
    "- Key data science programming languages\n",
    "- Popular data science libraries\n",
    "- Commonly used data science tools\n",
    "- How to perform basic arithmetic operations\n",
    "- How to convert units (minutes to hours)\n"
   ]
  },
  {
   "cell_type": "markdown",
   "id": "e746809f-4ec4-46bb-8f28-584d51fa7ac0",
   "metadata": {},
   "source": [
    "## Author\n",
    "John Doe\n"
   ]
  },
  {
   "cell_type": "code",
   "execution_count": null,
   "id": "affc51c1-0da4-4984-b447-62758232370d",
   "metadata": {},
   "outputs": [],
   "source": []
  }
 ],
 "metadata": {
  "kernelspec": {
   "display_name": "Python 3 (ipykernel)",
   "language": "python",
   "name": "python3"
  },
  "language_info": {
   "codemirror_mode": {
    "name": "ipython",
    "version": 3
   },
   "file_extension": ".py",
   "mimetype": "text/x-python",
   "name": "python",
   "nbconvert_exporter": "python",
   "pygments_lexer": "ipython3",
   "version": "3.13.0"
  }
 },
 "nbformat": 4,
 "nbformat_minor": 5
}
